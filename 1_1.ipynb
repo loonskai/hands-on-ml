{
  "nbformat": 4,
  "nbformat_minor": 0,
  "metadata": {
    "colab": {
      "provenance": [],
      "authorship_tag": "ABX9TyP9FwpXVS0BPoAy15qjkJoK",
      "include_colab_link": true
    },
    "kernelspec": {
      "name": "python3",
      "display_name": "Python 3"
    },
    "language_info": {
      "name": "python"
    }
  },
  "cells": [
    {
      "cell_type": "markdown",
      "metadata": {
        "id": "view-in-github",
        "colab_type": "text"
      },
      "source": [
        "<a href=\"https://colab.research.google.com/github/loonskai/hands-on-ml/blob/main/1_1.ipynb\" target=\"_parent\"><img src=\"https://colab.research.google.com/assets/colab-badge.svg\" alt=\"Open In Colab\"/></a>"
      ]
    },
    {
      "cell_type": "code",
      "execution_count": null,
      "metadata": {
        "id": "UC98glAMh9J2"
      },
      "outputs": [],
      "source": [
        "import matplotlib.pyplot as plt\n",
        "import numpy as np\n",
        "import pandas as pd\n",
        "from sklearn.linear_model import LinearRegression"
      ]
    },
    {
      "cell_type": "code",
      "source": [
        "# Download and prepare data\n",
        "data_root = \"https://github.com/ageron/data/raw/main/\"\n",
        "lifesat = pd.read_csv(data_root + \"lifesat/lifesat.csv\")\n",
        "X = lifesat[[\"GDP per capita (USD)\"]].values\n",
        "y = lifesat[[\"Life satisfaction\"]].values"
      ],
      "metadata": {
        "id": "BFcg8xGeiOa8"
      },
      "execution_count": null,
      "outputs": []
    },
    {
      "cell_type": "code",
      "source": [
        "# Visualize the data\n",
        "lifesat.plot(kind=\"scatter\", grid=True,\n",
        "             x=\"GDP per capita (USD)\", y=\"Life satisfaction\")"
      ],
      "metadata": {
        "colab": {
          "base_uri": "https://localhost:8080/",
          "height": 297
        },
        "id": "dK1oGzspipkO",
        "outputId": "6206c3e6-c991-4f1f-ee66-359de82d0813"
      },
      "execution_count": null,
      "outputs": [
        {
          "output_type": "execute_result",
          "data": {
            "text/plain": [
              "<matplotlib.axes._subplots.AxesSubplot at 0x7f7f573461f0>"
            ]
          },
          "metadata": {},
          "execution_count": 7
        },
        {
          "output_type": "display_data",
          "data": {
            "text/plain": [
              "<Figure size 432x288 with 1 Axes>"
            ],
            "image/png": "[encoded data removed]"
          },
          "metadata": {
            "needs_background": "light"
          }
        }
      ]
    },
    {
      "cell_type": "code",
      "source": [],
      "metadata": {
        "id": "UxB2dl4Di7L_"
      },
      "execution_count": null,
      "outputs": []
    }
  ]
}